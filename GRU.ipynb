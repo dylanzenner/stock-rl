{
 "cells": [
  {
   "cell_type": "code",
   "execution_count": 1,
   "metadata": {},
   "outputs": [],
   "source": [
    "import numpy as np\n",
    "import tensorflow as tf\n",
    "from tensorflow.keras.layers import Dropout, Dense, GRU\n",
    "import matplotlib.pyplot as plt\n",
    "import os\n",
    "import pandas as pd\n",
    "from sklearn.preprocessing import MinMaxScaler\n",
    "from sklearn.metrics import mean_squared_error, mean_absolute_error\n",
    "import math"
   ]
  },
  {
   "cell_type": "code",
   "execution_count": 2,
   "metadata": {},
   "outputs": [],
   "source": [
    "\n",
    "key_id = 'PK04UHV69AF2QULV4REU'\n",
    "secret_key = '7g1qUN7qjsfW3U6oSccYYtHyQdoewJ12ANDQmSKd'\n",
    "endpoint = 'https://paper-api.alpaca.markets'"
   ]
  },
  {
   "cell_type": "code",
   "execution_count": 3,
   "metadata": {},
   "outputs": [],
   "source": [
    "# connect to alpaca api\n",
    "from alpaca.data.historical import StockHistoricalDataClient\n",
    "from alpaca.data.requests import StockBarsRequest\n",
    "from alpaca.data.timeframe import TimeFrame\n",
    "from datetime import datetime\n",
    "\n",
    "\n",
    "stock_client = StockHistoricalDataClient(key_id, secret_key)\n",
    "\n",
    "# get 1 years worth data on Nvidia by the day. Could also use TimeFrame.Minute for daily data\n",
    "request_params = StockBarsRequest(symbol_or_symbols=['NVDA'],\n",
    "                                  timeframe=TimeFrame.Day,\n",
    "                                  start=datetime(2020, 1, 1),\n",
    "                                  end=datetime(2022, 1, 1)\n",
    "                                  )\n",
    "\n",
    "bars = stock_client.get_stock_bars(request_params)"
   ]
  },
  {
   "cell_type": "code",
   "execution_count": 4,
   "metadata": {},
   "outputs": [
    {
     "data": {
      "text/html": [
       "<div>\n",
       "<style scoped>\n",
       "    .dataframe tbody tr th:only-of-type {\n",
       "        vertical-align: middle;\n",
       "    }\n",
       "\n",
       "    .dataframe tbody tr th {\n",
       "        vertical-align: top;\n",
       "    }\n",
       "\n",
       "    .dataframe thead th {\n",
       "        text-align: right;\n",
       "    }\n",
       "</style>\n",
       "<table border=\"1\" class=\"dataframe\">\n",
       "  <thead>\n",
       "    <tr style=\"text-align: right;\">\n",
       "      <th></th>\n",
       "      <th>symbol</th>\n",
       "      <th>timestamp</th>\n",
       "      <th>open</th>\n",
       "      <th>high</th>\n",
       "      <th>low</th>\n",
       "      <th>close</th>\n",
       "      <th>volume</th>\n",
       "      <th>trade_count</th>\n",
       "      <th>vwap</th>\n",
       "    </tr>\n",
       "  </thead>\n",
       "  <tbody>\n",
       "    <tr>\n",
       "      <th>0</th>\n",
       "      <td>NVDA</td>\n",
       "      <td>2020-01-02 05:00:00+00:00</td>\n",
       "      <td>238.85</td>\n",
       "      <td>239.91</td>\n",
       "      <td>236.720</td>\n",
       "      <td>239.91</td>\n",
       "      <td>5941969.0</td>\n",
       "      <td>67912.0</td>\n",
       "      <td>238.723319</td>\n",
       "    </tr>\n",
       "    <tr>\n",
       "      <th>1</th>\n",
       "      <td>NVDA</td>\n",
       "      <td>2020-01-03 05:00:00+00:00</td>\n",
       "      <td>235.00</td>\n",
       "      <td>237.83</td>\n",
       "      <td>234.100</td>\n",
       "      <td>236.07</td>\n",
       "      <td>5145208.0</td>\n",
       "      <td>63605.0</td>\n",
       "      <td>236.384392</td>\n",
       "    </tr>\n",
       "    <tr>\n",
       "      <th>2</th>\n",
       "      <td>NVDA</td>\n",
       "      <td>2020-01-06 05:00:00+00:00</td>\n",
       "      <td>232.36</td>\n",
       "      <td>237.27</td>\n",
       "      <td>231.270</td>\n",
       "      <td>237.06</td>\n",
       "      <td>6572812.0</td>\n",
       "      <td>73912.0</td>\n",
       "      <td>235.468778</td>\n",
       "    </tr>\n",
       "    <tr>\n",
       "      <th>3</th>\n",
       "      <td>NVDA</td>\n",
       "      <td>2020-01-07 05:00:00+00:00</td>\n",
       "      <td>238.20</td>\n",
       "      <td>241.77</td>\n",
       "      <td>236.390</td>\n",
       "      <td>239.93</td>\n",
       "      <td>7980144.0</td>\n",
       "      <td>81624.0</td>\n",
       "      <td>239.855220</td>\n",
       "    </tr>\n",
       "    <tr>\n",
       "      <th>4</th>\n",
       "      <td>NVDA</td>\n",
       "      <td>2020-01-08 05:00:00+00:00</td>\n",
       "      <td>239.76</td>\n",
       "      <td>242.04</td>\n",
       "      <td>238.149</td>\n",
       "      <td>240.38</td>\n",
       "      <td>6931017.0</td>\n",
       "      <td>70240.0</td>\n",
       "      <td>240.313148</td>\n",
       "    </tr>\n",
       "  </tbody>\n",
       "</table>\n",
       "</div>"
      ],
      "text/plain": [
       "  symbol                 timestamp    open    high      low   close  \\\n",
       "0   NVDA 2020-01-02 05:00:00+00:00  238.85  239.91  236.720  239.91   \n",
       "1   NVDA 2020-01-03 05:00:00+00:00  235.00  237.83  234.100  236.07   \n",
       "2   NVDA 2020-01-06 05:00:00+00:00  232.36  237.27  231.270  237.06   \n",
       "3   NVDA 2020-01-07 05:00:00+00:00  238.20  241.77  236.390  239.93   \n",
       "4   NVDA 2020-01-08 05:00:00+00:00  239.76  242.04  238.149  240.38   \n",
       "\n",
       "      volume  trade_count        vwap  \n",
       "0  5941969.0      67912.0  238.723319  \n",
       "1  5145208.0      63605.0  236.384392  \n",
       "2  6572812.0      73912.0  235.468778  \n",
       "3  7980144.0      81624.0  239.855220  \n",
       "4  6931017.0      70240.0  240.313148  "
      ]
     },
     "execution_count": 4,
     "metadata": {},
     "output_type": "execute_result"
    }
   ],
   "source": [
    "data=bars.df.reset_index()\n",
    "data.head()"
   ]
  },
  {
   "cell_type": "code",
   "execution_count": 5,
   "metadata": {},
   "outputs": [],
   "source": [
    "import tensorflow as tf\n",
    "from tensorflow.keras.layers import Dropout, Dense, SimpleRNN\n",
    "import os\n",
    "from sklearn.preprocessing import MinMaxScaler\n",
    "from sklearn.metrics import mean_squared_error,mean_absolute_error\n",
    "import math"
   ]
  },
  {
   "cell_type": "code",
   "execution_count": 6,
   "metadata": {},
   "outputs": [],
   "source": [
    "traning_set=data.iloc[0:505-180,2:3].values\n",
    "test_set=data.iloc[505-180:,2:3].values\n",
    "\n",
    "sc=MinMaxScaler(feature_range=(0,1))\n",
    "training_set_scaled=sc.fit_transform(traning_set)\n",
    "test_set=sc.transform(test_set)\n"
   ]
  },
  {
   "cell_type": "code",
   "execution_count": 7,
   "metadata": {},
   "outputs": [],
   "source": [
    "from gc import callbacks\n",
    "\n",
    "\n",
    "x_train=[]\n",
    "y_train=[]\n",
    "\n",
    "x_test=[]\n",
    "y_test=[]\n",
    "\n",
    "\n",
    "for i in range(60, len(training_set_scaled)):\n",
    "    x_train.append(training_set_scaled[i - 60:i, 0])\n",
    "    y_train.append(training_set_scaled[i, 0])\n",
    "\n",
    "np.random.seed(7)\n",
    "np.random.shuffle(x_train)\n",
    "np.random.seed(7)\n",
    "np.random.shuffle(y_train)\n",
    "tf.random.set_seed(7)\n",
    "\n",
    "x_train, y_train = np.array(x_train), np.array(y_train)\n",
    "\n",
    "\n",
    "x_train = np.reshape(x_train, (x_train.shape[0], 60, 1))\n",
    "\n",
    "for i in range(60, len(test_set)):\n",
    "    x_test.append(test_set[i - 60:i, 0])\n",
    "    y_test.append(test_set[i, 0])\n",
    "\n",
    "x_test, y_test = np.array(x_test), np.array(y_test)\n",
    "x_test = np.reshape(x_test, (x_test.shape[0], 60, 1))"
   ]
  },
  {
   "cell_type": "code",
   "execution_count": 10,
   "metadata": {},
   "outputs": [
    {
     "name": "stdout",
     "output_type": "stream",
     "text": [
      "Epoch 1/50\n",
      "WARNING:tensorflow:Detecting that an object or model or tf.train.Checkpoint is being deleted with unrestored values. See the following logs for the specific values in question. To silence these warnings, use `status.expect_partial()`. See https://www.tensorflow.org/api_docs/python/tf/train/Checkpoint#restorefor details about the status object returned by the restore function.\n",
      "WARNING:tensorflow:Value in checkpoint could not be found in the restored object: (root).optimizer's state 'm' for (root).layer_with_weights-2.kernel\n",
      "WARNING:tensorflow:Value in checkpoint could not be found in the restored object: (root).optimizer's state 'm' for (root).layer_with_weights-2.bias\n",
      "WARNING:tensorflow:Value in checkpoint could not be found in the restored object: (root).optimizer's state 'm' for (root).layer_with_weights-0.cell.recurrent_kernel\n",
      "WARNING:tensorflow:Value in checkpoint could not be found in the restored object: (root).optimizer's state 'm' for (root).layer_with_weights-0.cell.bias\n",
      "WARNING:tensorflow:Value in checkpoint could not be found in the restored object: (root).optimizer's state 'm' for (root).layer_with_weights-1.cell.kernel\n",
      "WARNING:tensorflow:Value in checkpoint could not be found in the restored object: (root).optimizer's state 'm' for (root).layer_with_weights-1.cell.recurrent_kernel\n",
      "WARNING:tensorflow:Value in checkpoint could not be found in the restored object: (root).optimizer's state 'm' for (root).layer_with_weights-1.cell.bias\n",
      "WARNING:tensorflow:Value in checkpoint could not be found in the restored object: (root).optimizer's state 'v' for (root).layer_with_weights-2.kernel\n",
      "WARNING:tensorflow:Value in checkpoint could not be found in the restored object: (root).optimizer's state 'v' for (root).layer_with_weights-2.bias\n",
      "WARNING:tensorflow:Value in checkpoint could not be found in the restored object: (root).optimizer's state 'v' for (root).layer_with_weights-0.cell.kernel\n",
      "WARNING:tensorflow:Value in checkpoint could not be found in the restored object: (root).optimizer's state 'v' for (root).layer_with_weights-0.cell.recurrent_kernel\n",
      "WARNING:tensorflow:Value in checkpoint could not be found in the restored object: (root).optimizer's state 'v' for (root).layer_with_weights-0.cell.bias\n",
      "WARNING:tensorflow:Value in checkpoint could not be found in the restored object: (root).optimizer's state 'v' for (root).layer_with_weights-1.cell.kernel\n",
      "WARNING:tensorflow:Value in checkpoint could not be found in the restored object: (root).optimizer's state 'v' for (root).layer_with_weights-1.cell.recurrent_kernel\n",
      "WARNING:tensorflow:Value in checkpoint could not be found in the restored object: (root).optimizer's state 'v' for (root).layer_with_weights-1.cell.bias\n"
     ]
    },
    {
     "name": "stderr",
     "output_type": "stream",
     "text": [
      "2022-10-01 21:11:23.894415: I tensorflow/core/grappler/optimizers/custom_graph_optimizer_registry.cc:114] Plugin optimizer for device_type GPU is enabled.\n",
      "2022-10-01 21:11:24.129425: I tensorflow/core/grappler/optimizers/custom_graph_optimizer_registry.cc:114] Plugin optimizer for device_type GPU is enabled.\n",
      "2022-10-01 21:11:24.799694: I tensorflow/core/grappler/optimizers/custom_graph_optimizer_registry.cc:114] Plugin optimizer for device_type GPU is enabled.\n",
      "2022-10-01 21:11:25.164866: I tensorflow/core/grappler/optimizers/custom_graph_optimizer_registry.cc:114] Plugin optimizer for device_type GPU is enabled.\n",
      "2022-10-01 21:11:26.445431: I tensorflow/core/grappler/optimizers/custom_graph_optimizer_registry.cc:114] Plugin optimizer for device_type GPU is enabled.\n"
     ]
    },
    {
     "name": "stdout",
     "output_type": "stream",
     "text": [
      "5/5 [==============================] - ETA: 0s - loss: 0.1743"
     ]
    },
    {
     "name": "stderr",
     "output_type": "stream",
     "text": [
      "2022-10-01 21:11:28.531058: I tensorflow/core/grappler/optimizers/custom_graph_optimizer_registry.cc:114] Plugin optimizer for device_type GPU is enabled.\n",
      "2022-10-01 21:11:28.599472: I tensorflow/core/grappler/optimizers/custom_graph_optimizer_registry.cc:114] Plugin optimizer for device_type GPU is enabled.\n",
      "2022-10-01 21:11:28.690519: I tensorflow/core/grappler/optimizers/custom_graph_optimizer_registry.cc:114] Plugin optimizer for device_type GPU is enabled.\n"
     ]
    },
    {
     "name": "stdout",
     "output_type": "stream",
     "text": [
      "5/5 [==============================] - 7s 497ms/step - loss: 0.1743 - val_loss: 0.0858\n",
      "Epoch 2/50\n",
      "5/5 [==============================] - 0s 53ms/step - loss: 0.0631 - val_loss: 0.0725\n",
      "Epoch 3/50\n",
      "5/5 [==============================] - 0s 52ms/step - loss: 0.0131 - val_loss: 0.0279\n",
      "Epoch 4/50\n",
      "5/5 [==============================] - 0s 51ms/step - loss: 0.0194 - val_loss: 0.0266\n",
      "Epoch 5/50\n",
      "5/5 [==============================] - 0s 42ms/step - loss: 0.0118 - val_loss: 0.0381\n",
      "Epoch 6/50\n",
      "5/5 [==============================] - 0s 43ms/step - loss: 0.0066 - val_loss: 0.0501\n",
      "Epoch 7/50\n",
      "5/5 [==============================] - 0s 45ms/step - loss: 0.0104 - val_loss: 0.0417\n",
      "Epoch 8/50\n",
      "5/5 [==============================] - 0s 43ms/step - loss: 0.0052 - val_loss: 0.0324\n",
      "Epoch 9/50\n",
      "5/5 [==============================] - 0s 43ms/step - loss: 0.0054 - val_loss: 0.0312\n",
      "Epoch 10/50\n",
      "5/5 [==============================] - 0s 44ms/step - loss: 0.0047 - val_loss: 0.0357\n",
      "Epoch 11/50\n",
      "5/5 [==============================] - 0s 42ms/step - loss: 0.0053 - val_loss: 0.0367\n",
      "Epoch 12/50\n",
      "5/5 [==============================] - 0s 45ms/step - loss: 0.0045 - val_loss: 0.0328\n",
      "Epoch 13/50\n",
      "5/5 [==============================] - 0s 47ms/step - loss: 0.0041 - val_loss: 0.0316\n",
      "Epoch 14/50\n",
      "5/5 [==============================] - 0s 43ms/step - loss: 0.0035 - val_loss: 0.0330\n",
      "Epoch 15/50\n",
      "5/5 [==============================] - 0s 44ms/step - loss: 0.0039 - val_loss: 0.0331\n",
      "Epoch 16/50\n",
      "5/5 [==============================] - 0s 42ms/step - loss: 0.0033 - val_loss: 0.0317\n",
      "Epoch 17/50\n",
      "5/5 [==============================] - 0s 42ms/step - loss: 0.0032 - val_loss: 0.0321\n",
      "Epoch 18/50\n",
      "5/5 [==============================] - 0s 42ms/step - loss: 0.0033 - val_loss: 0.0335\n",
      "Epoch 19/50\n",
      "5/5 [==============================] - 0s 45ms/step - loss: 0.0033 - val_loss: 0.0327\n",
      "Epoch 20/50\n",
      "5/5 [==============================] - 0s 46ms/step - loss: 0.0030 - val_loss: 0.0321\n",
      "Epoch 21/50\n",
      "5/5 [==============================] - 0s 42ms/step - loss: 0.0031 - val_loss: 0.0320\n",
      "Epoch 22/50\n",
      "5/5 [==============================] - 0s 42ms/step - loss: 0.0028 - val_loss: 0.0322\n",
      "Epoch 23/50\n",
      "5/5 [==============================] - 0s 41ms/step - loss: 0.0028 - val_loss: 0.0318\n",
      "Epoch 24/50\n",
      "5/5 [==============================] - 0s 42ms/step - loss: 0.0025 - val_loss: 0.0325\n",
      "Epoch 25/50\n",
      "5/5 [==============================] - 0s 42ms/step - loss: 0.0024 - val_loss: 0.0317\n",
      "Epoch 26/50\n",
      "5/5 [==============================] - 0s 43ms/step - loss: 0.0027 - val_loss: 0.0321\n",
      "Epoch 27/50\n",
      "5/5 [==============================] - 0s 44ms/step - loss: 0.0028 - val_loss: 0.0331\n",
      "Epoch 28/50\n",
      "5/5 [==============================] - 0s 44ms/step - loss: 0.0027 - val_loss: 0.0314\n",
      "Epoch 29/50\n",
      "5/5 [==============================] - 0s 43ms/step - loss: 0.0028 - val_loss: 0.0317\n",
      "Epoch 30/50\n",
      "5/5 [==============================] - 0s 42ms/step - loss: 0.0024 - val_loss: 0.0323\n",
      "Epoch 31/50\n",
      "5/5 [==============================] - 0s 42ms/step - loss: 0.0025 - val_loss: 0.0321\n",
      "Epoch 32/50\n",
      "5/5 [==============================] - 0s 43ms/step - loss: 0.0022 - val_loss: 0.0310\n",
      "Epoch 33/50\n",
      "5/5 [==============================] - 0s 42ms/step - loss: 0.0027 - val_loss: 0.0314\n",
      "Epoch 34/50\n",
      "5/5 [==============================] - 0s 42ms/step - loss: 0.0026 - val_loss: 0.0310\n",
      "Epoch 35/50\n",
      "5/5 [==============================] - 0s 42ms/step - loss: 0.0023 - val_loss: 0.0308\n",
      "Epoch 36/50\n",
      "5/5 [==============================] - 0s 44ms/step - loss: 0.0025 - val_loss: 0.0327\n",
      "Epoch 37/50\n",
      "5/5 [==============================] - 0s 43ms/step - loss: 0.0024 - val_loss: 0.0311\n",
      "Epoch 38/50\n",
      "5/5 [==============================] - 0s 43ms/step - loss: 0.0023 - val_loss: 0.0313\n",
      "Epoch 39/50\n",
      "5/5 [==============================] - 0s 42ms/step - loss: 0.0021 - val_loss: 0.0316\n",
      "Epoch 40/50\n",
      "5/5 [==============================] - 0s 42ms/step - loss: 0.0022 - val_loss: 0.0313\n",
      "Epoch 41/50\n",
      "5/5 [==============================] - 0s 42ms/step - loss: 0.0020 - val_loss: 0.0315\n",
      "Epoch 42/50\n",
      "5/5 [==============================] - 0s 42ms/step - loss: 0.0022 - val_loss: 0.0306\n",
      "Epoch 43/50\n",
      "5/5 [==============================] - 0s 42ms/step - loss: 0.0022 - val_loss: 0.0314\n",
      "Epoch 44/50\n",
      "5/5 [==============================] - 0s 42ms/step - loss: 0.0022 - val_loss: 0.0308\n",
      "Epoch 45/50\n",
      "5/5 [==============================] - 0s 42ms/step - loss: 0.0021 - val_loss: 0.0333\n",
      "Epoch 46/50\n",
      "5/5 [==============================] - 0s 42ms/step - loss: 0.0023 - val_loss: 0.0299\n",
      "Epoch 47/50\n",
      "5/5 [==============================] - 0s 42ms/step - loss: 0.0022 - val_loss: 0.0317\n",
      "Epoch 48/50\n",
      "5/5 [==============================] - 0s 44ms/step - loss: 0.0021 - val_loss: 0.0312\n",
      "Epoch 49/50\n",
      "5/5 [==============================] - 0s 45ms/step - loss: 0.0021 - val_loss: 0.0309\n",
      "Epoch 50/50\n",
      "5/5 [==============================] - 0s 44ms/step - loss: 0.0025 - val_loss: 0.0318\n",
      "Model: \"sequential_2\"\n",
      "_________________________________________________________________\n",
      " Layer (type)                Output Shape              Param #   \n",
      "=================================================================\n",
      " gru_4 (GRU)                 (None, 60, 80)            19920     \n",
      "                                                                 \n",
      " dropout_4 (Dropout)         (None, 60, 80)            0         \n",
      "                                                                 \n",
      " gru_5 (GRU)                 (None, 100)               54600     \n",
      "                                                                 \n",
      " dropout_5 (Dropout)         (None, 100)               0         \n",
      "                                                                 \n",
      " dense_2 (Dense)             (None, 1)                 101       \n",
      "                                                                 \n",
      "=================================================================\n",
      "Total params: 74,621\n",
      "Trainable params: 74,621\n",
      "Non-trainable params: 0\n",
      "_________________________________________________________________\n"
     ]
    }
   ],
   "source": [
    "model = tf.keras.Sequential([\n",
    "    GRU(80, return_sequences=True),\n",
    "    Dropout(0.2),\n",
    "    GRU(100),\n",
    "    Dropout(0.2),\n",
    "    Dense(1)\n",
    "])\n",
    "\n",
    "model.compile(optimizer=tf.keras.optimizers.Adam(0.001),\n",
    "              loss='mean_squared_error')  
   
    "checkpoint_save_path = \"./checkpoint/stock1.ckpt\"\n",
    "\n",
    "if os.path.exists(checkpoint_save_path + '.index'):\n",
    "    print('-------------load the model-----------------')\n",
    "    model.load_weights(checkpoint_save_path)\n",
    "\n",
    "cp_callback = tf.keras.callbacks.ModelCheckpoint(filepath=checkpoint_save_path,\n",
    "                                                 save_weights_only=True,\n",
    "                                                 save_best_only=True,\n",
    "                                                 monitor='val_loss')\n",
    "\n",
    "history = model.fit(x_train, y_train, batch_size=64, epochs=50, validation_data=(x_test, y_test), validation_freq=1,\n",
    "                    callbacks=[cp_callback])\n",
    "\n",
    "model.summary()"
   ]
  },
  {
   "cell_type": "code",
   "execution_count": 11,
   "metadata": {},
   "outputs": [],
   "source": [
    "from matplotlib.pyplot import hist\n",
    "\n",
    "\n",
    "file=open('./weight.txt','w')\n",
    "for v in model.trainable_variables:\n",
    "    file.write(str(v.name)+'\\n')\n",
    "    file.write(str(v.shape)+'\\n')\n",
    "    file.write(str(v.numpy())+'\\n')\n",
    "file.close()"
   ]
  },
  {
   "cell_type": "code",
   "execution_count": 12,
   "metadata": {},
   "outputs": [
    {
     "data": {
      "image/png": "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",
      "text/plain": [
       "<Figure size 432x288 with 1 Axes>"
      ]
     },
     "metadata": {
      "needs_background": "light"
     },
     "output_type": "display_data"
    }
   ],
   "source": [
    "loss = history.history['loss']\n",
    "val_loss = history.history['val_loss']\n",
    "\n",
    "plt.plot(loss, label='Training Loss')\n",
    "plt.plot(val_loss, label='Validation Loss')\n",
    "plt.title('Training and Validation Loss')\n",
    "plt.legend()\n",
    "plt.show()"
   ]
  },
  {
   "cell_type": "code",
   "execution_count": 13,
   "metadata": {},
   "outputs": [
    {
     "name": "stderr",
     "output_type": "stream",
     "text": [
      "2022-10-01 21:12:19.037849: I tensorflow/core/grappler/optimizers/custom_graph_optimizer_registry.cc:114] Plugin optimizer for device_type GPU is enabled.\n",
      "2022-10-01 21:12:19.113290: I tensorflow/core/grappler/optimizers/custom_graph_optimizer_registry.cc:114] Plugin optimizer for device_type GPU is enabled.\n",
      "2022-10-01 21:12:19.233432: I tensorflow/core/grappler/optimizers/custom_graph_optimizer_registry.cc:114] Plugin optimizer for device_type GPU is enabled.\n"
     ]
    },
    {
     "name": "stdout",
     "output_type": "stream",
     "text": [
      "4/4 [==============================] - 1s 71ms/step\n"
     ]
    },
    {
     "data": {
      "image/png": "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",
      "text/plain": [
       "<Figure size 432x288 with 1 Axes>"
      ]
     },
     "metadata": {
      "needs_background": "light"
     },
     "output_type": "display_data"
    }
   ],
   "source": [
    "################## predict ######################\n",
    "\n",
    "predicted_stock_price = model.predict(x_test)\n",
    "\n",
    "predicted_stock_price = sc.inverse_transform(predicted_stock_price)\n",
    "\n",
    "real_stock_price = sc.inverse_transform(test_set[60:])\n",
    "\n",
    "plt.plot(real_stock_price, color='red', label='MaoTai Stock Price')\n",
    "plt.plot(predicted_stock_price, color='blue', label='Predicted MaoTai Stock Price')\n",
    "plt.title('MaoTai Stock Price Prediction')\n",
    "plt.xlabel('Time')\n",
    "plt.ylabel('MaoTai Stock Price')\n",
    "plt.legend()\n",
    "plt.show()"
   ]
  },
  {
   "cell_type": "code",
   "execution_count": 14,
   "metadata": {},
   "outputs": [
    {
     "name": "stdout",
     "output_type": "stream",
     "text": [
      "mse: 6260.169029\n",
      "rmse: 79.121230\n",
      "mae: 27.514517\n"
     ]
    }
   ],
   "source": [
    "##########evaluate##############\n",
    "# calculate MSE  \n",
    "mse = mean_squared_error(predicted_stock_price, real_stock_price)\n",
    "# calculate RMSE \n",
    "rmse = math.sqrt(mean_squared_error(predicted_stock_price, real_stock_price))\n",
    "# calculate MAE \n",
    "mae = mean_absolute_error(predicted_stock_price, real_stock_price)\n",
    "print('mse: %.6f' % mse)\n",
    "print('rmse: %.6f' % rmse)\n",
    "print('mae: %.6f' % mae)"
   ]
  }
 ],
 "metadata": {
  "kernelspec": {
   "display_name": "Python 3.8.5 ('tensorflow24')",
   "language": "python",
   "name": "python3"
  },
  "language_info": {
   "codemirror_mode": {
    "name": "ipython",
    "version": 3
   },
   "file_extension": ".py",
   "mimetype": "text/x-python",
   "name": "python",
   "nbconvert_exporter": "python",
   "pygments_lexer": "ipython3",
   "version": "3.8.5"
  },
  "orig_nbformat": 4,
  "vscode": {
   "interpreter": {
    "hash": "6fe0b1752bef58208e61c2c54ac686efbfd88b3c1c73b7f80dc2982421c99342"
   }
  }
 },
 "nbformat": 4,
 "nbformat_minor": 2
}
