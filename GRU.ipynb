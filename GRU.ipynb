{
 "cells": [
  {
   "cell_type": "code",
   "execution_count": 1,
   "metadata": {},
   "outputs": [],
   "source": [
    "import numpy as np\n",
    "import tensorflow as tf\n",
    "from tensorflow.keras.layers import Dropout, Dense, GRU\n",
    "import matplotlib.pyplot as plt\n",
    "import os\n",
    "import pandas as pd\n",
    "from sklearn.preprocessing import MinMaxScaler\n",
    "from sklearn.metrics import mean_squared_error, mean_absolute_error\n",
    "import math"
   ]
  },
  {
   "cell_type": "code",
   "execution_count": 2,
   "metadata": {},
   "outputs": [],
   "source": [
    "\n",
    "key_id = 'PK04UHV69AF2QULV4REU'\n",
    "secret_key = '7g1qUN7qjsfW3U6oSccYYtHyQdoewJ12ANDQmSKd'\n",
    "endpoint = 'https://paper-api.alpaca.markets'"
   ]
  },
  {
   "cell_type": "code",
   "execution_count": 3,
   "metadata": {},
   "outputs": [],
   "source": [
    "# connect to alpaca api\n",
    "from alpaca.data.historical import StockHistoricalDataClient\n",
    "from alpaca.data.requests import StockBarsRequest\n",
    "from alpaca.data.timeframe import TimeFrame\n",
    "from datetime import datetime\n",
    "\n",
    "\n",
    "stock_client = StockHistoricalDataClient(key_id, secret_key)\n",
    "\n",
    "# get 1 years worth data on Nvidia by the day. Could also use TimeFrame.Minute for daily data\n",
    "request_params = StockBarsRequest(symbol_or_symbols=['NVDA'],\n",
    "                                  timeframe=TimeFrame.Day,\n",
    "                                  start=datetime(2020, 1, 1),\n",
    "                                  end=datetime(2022, 1, 1)\n",
    "                                  )\n",
    "\n",
    "bars = stock_client.get_stock_bars(request_params)"
   ]
  },
  {
   "cell_type": "code",
   "execution_count": 4,
   "metadata": {},
   "outputs": [
    {
     "data": {
      "text/html": [
       "<div>\n",
       "<style scoped>\n",
       "    .dataframe tbody tr th:only-of-type {\n",
       "        vertical-align: middle;\n",
       "    }\n",
       "\n",
       "    .dataframe tbody tr th {\n",
       "        vertical-align: top;\n",
       "    }\n",
       "\n",
       "    .dataframe thead th {\n",
       "        text-align: right;\n",
       "    }\n",
       "</style>\n",
       "<table border=\"1\" class=\"dataframe\">\n",
       "  <thead>\n",
       "    <tr style=\"text-align: right;\">\n",
       "      <th></th>\n",
       "      <th>symbol</th>\n",
       "      <th>timestamp</th>\n",
       "      <th>open</th>\n",
       "      <th>high</th>\n",
       "      <th>low</th>\n",
       "      <th>close</th>\n",
       "      <th>volume</th>\n",
       "      <th>trade_count</th>\n",
       "      <th>vwap</th>\n",
       "    </tr>\n",
       "  </thead>\n",
       "  <tbody>\n",
       "    <tr>\n",
       "      <th>0</th>\n",
       "      <td>NVDA</td>\n",
       "      <td>2020-01-02 05:00:00+00:00</td>\n",
       "      <td>238.85</td>\n",
       "      <td>239.91</td>\n",
       "      <td>236.720</td>\n",
       "      <td>239.91</td>\n",
       "      <td>5941969.0</td>\n",
       "      <td>67912.0</td>\n",
       "      <td>238.723319</td>\n",
       "    </tr>\n",
       "    <tr>\n",
       "      <th>1</th>\n",
       "      <td>NVDA</td>\n",
       "      <td>2020-01-03 05:00:00+00:00</td>\n",
       "      <td>235.00</td>\n",
       "      <td>237.83</td>\n",
       "      <td>234.100</td>\n",
       "      <td>236.07</td>\n",
       "      <td>5145208.0</td>\n",
       "      <td>63605.0</td>\n",
       "      <td>236.384392</td>\n",
       "    </tr>\n",
       "    <tr>\n",
       "      <th>2</th>\n",
       "      <td>NVDA</td>\n",
       "      <td>2020-01-06 05:00:00+00:00</td>\n",
       "      <td>232.36</td>\n",
       "      <td>237.27</td>\n",
       "      <td>231.270</td>\n",
       "      <td>237.06</td>\n",
       "      <td>6572812.0</td>\n",
       "      <td>73912.0</td>\n",
       "      <td>235.468778</td>\n",
       "    </tr>\n",
       "    <tr>\n",
       "      <th>3</th>\n",
       "      <td>NVDA</td>\n",
       "      <td>2020-01-07 05:00:00+00:00</td>\n",
       "      <td>238.20</td>\n",
       "      <td>241.77</td>\n",
       "      <td>236.390</td>\n",
       "      <td>239.93</td>\n",
       "      <td>7980144.0</td>\n",
       "      <td>81624.0</td>\n",
       "      <td>239.855220</td>\n",
       "    </tr>\n",
       "    <tr>\n",
       "      <th>4</th>\n",
       "      <td>NVDA</td>\n",
       "      <td>2020-01-08 05:00:00+00:00</td>\n",
       "      <td>239.76</td>\n",
       "      <td>242.04</td>\n",
       "      <td>238.149</td>\n",
       "      <td>240.38</td>\n",
       "      <td>6931017.0</td>\n",
       "      <td>70240.0</td>\n",
       "      <td>240.313148</td>\n",
       "    </tr>\n",
       "  </tbody>\n",
       "</table>\n",
       "</div>"
      ],
      "text/plain": [
       "  symbol                 timestamp    open    high      low   close  \\\n",
       "0   NVDA 2020-01-02 05:00:00+00:00  238.85  239.91  236.720  239.91   \n",
       "1   NVDA 2020-01-03 05:00:00+00:00  235.00  237.83  234.100  236.07   \n",
       "2   NVDA 2020-01-06 05:00:00+00:00  232.36  237.27  231.270  237.06   \n",
       "3   NVDA 2020-01-07 05:00:00+00:00  238.20  241.77  236.390  239.93   \n",
       "4   NVDA 2020-01-08 05:00:00+00:00  239.76  242.04  238.149  240.38   \n",
       "\n",
       "      volume  trade_count        vwap  \n",
       "0  5941969.0      67912.0  238.723319  \n",
       "1  5145208.0      63605.0  236.384392  \n",
       "2  6572812.0      73912.0  235.468778  \n",
       "3  7980144.0      81624.0  239.855220  \n",
       "4  6931017.0      70240.0  240.313148  "
      ]
     },
     "execution_count": 4,
     "metadata": {},
     "output_type": "execute_result"
    }
   ],
   "source": [
    "data=bars.df.reset_index()\n",
    "data.head()"
   ]
  },
  {
   "cell_type": "code",
   "execution_count": 5,
   "metadata": {},
   "outputs": [],
   "source": [
    "import tensorflow as tf\n",
    "from tensorflow.keras.layers import Dropout, Dense, SimpleRNN\n",
    "import os\n",
    "from sklearn.preprocessing import MinMaxScaler\n",
    "from sklearn.metrics import mean_squared_error,mean_absolute_error\n",
    "import math"
   ]
  },
  {
   "cell_type": "code",
   "execution_count": 6,
   "metadata": {},
   "outputs": [],
   "source": [
    "traning_set=data.iloc[0:505-180,2:3].values\n",
    "test_set=data.iloc[505-180:,2:3].values\n",
    "\n",
    "sc=MinMaxScaler(feature_range=(0,1))\n",
    "training_set_scaled=sc.fit_transform(traning_set)\n",
    "test_set=sc.transform(test_set)\n"
   ]
  },
  {
   "cell_type": "code",
   "execution_count": 7,
   "metadata": {},
   "outputs": [],
   "source": [
    "from gc import callbacks\n",
    "\n",
    "\n",
    "x_train=[]\n",
    "y_train=[]\n",
    "\n",
    "x_test=[]\n",
    "y_test=[]\n",
    "\n",
    "\n",
    "for i in range(60, len(training_set_scaled)):\n",
    "    x_train.append(training_set_scaled[i - 60:i, 0])\n",
    "    y_train.append(training_set_scaled[i, 0])\n",
    "\n",
    "np.random.seed(7)\n",
    "np.random.shuffle(x_train)\n",
    "np.random.seed(7)\n",
    "np.random.shuffle(y_train)\n",
    "tf.random.set_seed(7)\n",
    "\n",
    "x_train, y_train = np.array(x_train), np.array(y_train)\n",
    "\n",
    "\n",
    "x_train = np.reshape(x_train, (x_train.shape[0], 60, 1))\n",
    "\n",
    "for i in range(60, len(test_set)):\n",
    "    x_test.append(test_set[i - 60:i, 0])\n",
    "    y_test.append(test_set[i, 0])\n",
    "\n",
    "x_test, y_test = np.array(x_test), np.array(y_test)\n",
    "x_test = np.reshape(x_test, (x_test.shape[0], 60, 1))"
   ]
  },
  {
   "cell_type": "code",
   "execution_count": 8,
   "metadata": {},
   "outputs": [
    {
     "name": "stdout",
     "output_type": "stream",
     "text": [
      "Metal device set to: Apple M1\n",
      "\n",
      "systemMemory: 8.00 GB\n",
      "maxCacheSize: 2.67 GB\n",
      "\n",
      "-------------load the model-----------------\n",
      "Epoch 1/50\n"
     ]
    },
    {
     "name": "stderr",
     "output_type": "stream",
     "text": [
      "2022-10-02 16:31:25.909555: I tensorflow/core/common_runtime/pluggable_device/pluggable_device_factory.cc:306] Could not identify NUMA node of platform GPU ID 0, defaulting to 0. Your kernel may not have been built with NUMA support.\n",
      "2022-10-02 16:31:25.909832: I tensorflow/core/common_runtime/pluggable_device/pluggable_device_factory.cc:272] Created TensorFlow device (/job:localhost/replica:0/task:0/device:GPU:0 with 0 MB memory) -> physical PluggableDevice (device: 0, name: METAL, pci bus id: <undefined>)\n",
      "2022-10-02 16:31:26.003227: W tensorflow/core/platform/profile_utils/cpu_utils.cc:128] Failed to get CPU frequency: 0 Hz\n",
      "2022-10-02 16:31:27.691548: I tensorflow/core/grappler/optimizers/custom_graph_optimizer_registry.cc:114] Plugin optimizer for device_type GPU is enabled.\n",
      "2022-10-02 16:31:27.912183: I tensorflow/core/grappler/optimizers/custom_graph_optimizer_registry.cc:114] Plugin optimizer for device_type GPU is enabled.\n",
      "2022-10-02 16:31:28.053282: I tensorflow/core/grappler/optimizers/custom_graph_optimizer_registry.cc:114] Plugin optimizer for device_type GPU is enabled.\n",
      "2022-10-02 16:31:28.218328: I tensorflow/core/grappler/optimizers/custom_graph_optimizer_registry.cc:114] Plugin optimizer for device_type GPU is enabled.\n",
      "2022-10-02 16:31:28.396228: I tensorflow/core/grappler/optimizers/custom_graph_optimizer_registry.cc:114] Plugin optimizer for device_type GPU is enabled.\n"
     ]
    },
    {
     "name": "stdout",
     "output_type": "stream",
     "text": [
      "5/5 [==============================] - ETA: 0s - loss: 0.0119"
     ]
    },
    {
     "name": "stderr",
     "output_type": "stream",
     "text": [
      "2022-10-02 16:31:29.343774: I tensorflow/core/grappler/optimizers/custom_graph_optimizer_registry.cc:114] Plugin optimizer for device_type GPU is enabled.\n",
      "2022-10-02 16:31:29.412773: I tensorflow/core/grappler/optimizers/custom_graph_optimizer_registry.cc:114] Plugin optimizer for device_type GPU is enabled.\n",
      "2022-10-02 16:31:29.504502: I tensorflow/core/grappler/optimizers/custom_graph_optimizer_registry.cc:114] Plugin optimizer for device_type GPU is enabled.\n"
     ]
    },
    {
     "name": "stdout",
     "output_type": "stream",
     "text": [
      "5/5 [==============================] - 4s 320ms/step - loss: 0.0119 - val_loss: 0.0384\n",
      "Epoch 2/50\n",
      "5/5 [==============================] - 0s 43ms/step - loss: 0.0071 - val_loss: 0.0517\n",
      "Epoch 3/50\n",
      "5/5 [==============================] - 0s 42ms/step - loss: 0.0109 - val_loss: 0.0420\n",
      "Epoch 4/50\n",
      "5/5 [==============================] - 0s 56ms/step - loss: 0.0055 - val_loss: 0.0319\n",
      "Epoch 5/50\n",
      "5/5 [==============================] - 0s 54ms/step - loss: 0.0054 - val_loss: 0.0307\n",
      "Epoch 6/50\n",
      "5/5 [==============================] - 0s 44ms/step - loss: 0.0047 - val_loss: 0.0356\n",
      "Epoch 7/50\n",
      "5/5 [==============================] - 0s 44ms/step - loss: 0.0053 - val_loss: 0.0377\n",
      "Epoch 8/50\n",
      "5/5 [==============================] - 0s 43ms/step - loss: 0.0045 - val_loss: 0.0337\n",
      "Epoch 9/50\n",
      "5/5 [==============================] - 0s 42ms/step - loss: 0.0037 - val_loss: 0.0308\n",
      "Epoch 10/50\n",
      "5/5 [==============================] - 0s 42ms/step - loss: 0.0037 - val_loss: 0.0328\n",
      "Epoch 11/50\n",
      "5/5 [==============================] - 0s 45ms/step - loss: 0.0041 - val_loss: 0.0339\n",
      "Epoch 12/50\n",
      "5/5 [==============================] - 0s 43ms/step - loss: 0.0037 - val_loss: 0.0322\n",
      "Epoch 13/50\n",
      "5/5 [==============================] - 0s 42ms/step - loss: 0.0034 - val_loss: 0.0320\n",
      "Epoch 14/50\n",
      "5/5 [==============================] - 0s 42ms/step - loss: 0.0031 - val_loss: 0.0326\n",
      "Epoch 15/50\n",
      "5/5 [==============================] - 0s 43ms/step - loss: 0.0035 - val_loss: 0.0322\n",
      "Epoch 16/50\n",
      "5/5 [==============================] - 0s 43ms/step - loss: 0.0029 - val_loss: 0.0316\n",
      "Epoch 17/50\n",
      "5/5 [==============================] - 0s 42ms/step - loss: 0.0029 - val_loss: 0.0323\n",
      "Epoch 18/50\n",
      "5/5 [==============================] - 0s 42ms/step - loss: 0.0031 - val_loss: 0.0331\n",
      "Epoch 19/50\n",
      "5/5 [==============================] - 0s 42ms/step - loss: 0.0030 - val_loss: 0.0321\n",
      "Epoch 20/50\n",
      "5/5 [==============================] - 0s 51ms/step - loss: 0.0028 - val_loss: 0.0322\n",
      "Epoch 21/50\n",
      "5/5 [==============================] - 0s 41ms/step - loss: 0.0029 - val_loss: 0.0319\n",
      "Epoch 22/50\n",
      "5/5 [==============================] - 0s 41ms/step - loss: 0.0027 - val_loss: 0.0317\n",
      "Epoch 23/50\n",
      "5/5 [==============================] - 0s 41ms/step - loss: 0.0026 - val_loss: 0.0317\n",
      "Epoch 24/50\n",
      "5/5 [==============================] - 0s 46ms/step - loss: 0.0023 - val_loss: 0.0323\n",
      "Epoch 25/50\n",
      "5/5 [==============================] - 0s 44ms/step - loss: 0.0022 - val_loss: 0.0313\n",
      "Epoch 26/50\n",
      "5/5 [==============================] - 0s 43ms/step - loss: 0.0025 - val_loss: 0.0321\n",
      "Epoch 27/50\n",
      "5/5 [==============================] - 0s 43ms/step - loss: 0.0026 - val_loss: 0.0328\n",
      "Epoch 28/50\n",
      "5/5 [==============================] - 0s 43ms/step - loss: 0.0025 - val_loss: 0.0309\n",
      "Epoch 29/50\n",
      "5/5 [==============================] - 0s 45ms/step - loss: 0.0026 - val_loss: 0.0318\n",
      "Epoch 30/50\n",
      "5/5 [==============================] - 0s 42ms/step - loss: 0.0022 - val_loss: 0.0319\n",
      "Epoch 31/50\n",
      "5/5 [==============================] - 0s 43ms/step - loss: 0.0023 - val_loss: 0.0319\n",
      "Epoch 32/50\n",
      "5/5 [==============================] - 0s 42ms/step - loss: 0.0021 - val_loss: 0.0308\n",
      "Epoch 33/50\n",
      "5/5 [==============================] - 0s 43ms/step - loss: 0.0026 - val_loss: 0.0311\n",
      "Epoch 34/50\n",
      "5/5 [==============================] - 0s 51ms/step - loss: 0.0025 - val_loss: 0.0307\n",
      "Epoch 35/50\n",
      "5/5 [==============================] - 0s 52ms/step - loss: 0.0022 - val_loss: 0.0307\n",
      "Epoch 36/50\n",
      "5/5 [==============================] - 0s 43ms/step - loss: 0.0024 - val_loss: 0.0324\n",
      "Epoch 37/50\n",
      "5/5 [==============================] - 0s 51ms/step - loss: 0.0023 - val_loss: 0.0307\n",
      "Epoch 38/50\n",
      "5/5 [==============================] - 0s 43ms/step - loss: 0.0022 - val_loss: 0.0312\n",
      "Epoch 39/50\n",
      "5/5 [==============================] - 0s 43ms/step - loss: 0.0021 - val_loss: 0.0312\n",
      "Epoch 40/50\n",
      "5/5 [==============================] - 0s 43ms/step - loss: 0.0021 - val_loss: 0.0311\n",
      "Epoch 41/50\n",
      "5/5 [==============================] - 0s 44ms/step - loss: 0.0019 - val_loss: 0.0313\n",
      "Epoch 42/50\n",
      "5/5 [==============================] - 0s 51ms/step - loss: 0.0021 - val_loss: 0.0303\n",
      "Epoch 43/50\n",
      "5/5 [==============================] - 0s 43ms/step - loss: 0.0022 - val_loss: 0.0312\n",
      "Epoch 44/50\n",
      "5/5 [==============================] - 0s 43ms/step - loss: 0.0021 - val_loss: 0.0306\n",
      "Epoch 45/50\n",
      "5/5 [==============================] - 0s 43ms/step - loss: 0.0021 - val_loss: 0.0331\n",
      "Epoch 46/50\n",
      "5/5 [==============================] - 0s 52ms/step - loss: 0.0022 - val_loss: 0.0295\n",
      "Epoch 47/50\n",
      "5/5 [==============================] - 0s 43ms/step - loss: 0.0021 - val_loss: 0.0317\n",
      "Epoch 48/50\n",
      "5/5 [==============================] - 0s 43ms/step - loss: 0.0021 - val_loss: 0.0306\n",
      "Epoch 49/50\n",
      "5/5 [==============================] - 0s 43ms/step - loss: 0.0021 - val_loss: 0.0309\n",
      "Epoch 50/50\n",
      "5/5 [==============================] - 0s 43ms/step - loss: 0.0025 - val_loss: 0.0312\n",
      "Model: \"sequential\"\n",
      "_________________________________________________________________\n",
      " Layer (type)                Output Shape              Param #   \n",
      "=================================================================\n",
      " gru (GRU)                   (None, 60, 80)            19920     \n",
      "                                                                 \n",
      " dropout (Dropout)           (None, 60, 80)            0         \n",
      "                                                                 \n",
      " gru_1 (GRU)                 (None, 100)               54600     \n",
      "                                                                 \n",
      " dropout_1 (Dropout)         (None, 100)               0         \n",
      "                                                                 \n",
      " dense (Dense)               (None, 1)                 101       \n",
      "                                                                 \n",
      "=================================================================\n",
      "Total params: 74,621\n",
      "Trainable params: 74,621\n",
      "Non-trainable params: 0\n",
      "_________________________________________________________________\n"
     ]
    }
   ],
   "source": [
    "model = tf.keras.Sequential([\n",
    "    GRU(80, return_sequences=True),\n",
    "    Dropout(0.2),\n",
    "    GRU(100),\n",
    "    Dropout(0.2),\n",
    "    Dense(1)\n",
    "])\n",
    "\n",
    "model.compile(optimizer=tf.keras.optimizers.Adam(0.001),\n",
    "              loss='mean_squared_error') \n",
    "\n",
    "checkpoint_save_path = \"./checkpoint/stock1.ckpt\"\n",
    "\n",
    "if os.path.exists(checkpoint_save_path + '.index'):\n",
    "    print('-------------load the model-----------------')\n",
    "    model.load_weights(checkpoint_save_path)\n",
    "\n",
    "cp_callback = tf.keras.callbacks.ModelCheckpoint(filepath=checkpoint_save_path,\n",
    "                                                 save_weights_only=True,\n",
    "                                                 save_best_only=True,\n",
    "                                                 monitor='val_loss')\n",
    "\n",
    "history = model.fit(x_train, y_train, batch_size=64, epochs=50, validation_data=(x_test, y_test), validation_freq=1,\n",
    "                    callbacks=[cp_callback])\n",
    "\n",
    "model.summary()"
   ]
  },
  {
   "cell_type": "code",
   "execution_count": 9,
   "metadata": {},
   "outputs": [],
   "source": [
    "from matplotlib.pyplot import hist\n",
    "\n",
    "\n",
    "file=open('./weight.txt','w')\n",
    "for v in model.trainable_variables:\n",
    "    file.write(str(v.name)+'\\n')\n",
    "    file.write(str(v.shape)+'\\n')\n",
    "    file.write(str(v.numpy())+'\\n')\n",
    "file.close()"
   ]
  },
  {
   "cell_type": "code",
   "execution_count": 10,
   "metadata": {},
   "outputs": [
    {
     "data": {
      "image/png": "[encoded data removed]",
      "text/plain": [
       "<Figure size 432x288 with 1 Axes>"
      ]
     },
     "metadata": {
      "needs_background": "light"
     },
     "output_type": "display_data"
    }
   ],
   "source": [
    "loss = history.history['loss']\n",
    "val_loss = history.history['val_loss']\n",
    "\n",
    "plt.plot(loss, label='Training Loss')\n",
    "plt.plot(val_loss, label='Validation Loss')\n",
    "plt.title('Training and Validation Loss')\n",
    "plt.legend()\n",
    "plt.show()"
   ]
  },
  {
   "cell_type": "code",
   "execution_count": 11,
   "metadata": {},
   "outputs": [
    {
     "name": "stderr",
     "output_type": "stream",
     "text": [
      "2022-10-02 16:31:46.196184: I tensorflow/core/grappler/optimizers/custom_graph_optimizer_registry.cc:114] Plugin optimizer for device_type GPU is enabled.\n",
      "2022-10-02 16:31:46.261455: I tensorflow/core/grappler/optimizers/custom_graph_optimizer_registry.cc:114] Plugin optimizer for device_type GPU is enabled.\n",
      "2022-10-02 16:31:46.353574: I tensorflow/core/grappler/optimizers/custom_graph_optimizer_registry.cc:114] Plugin optimizer for device_type GPU is enabled.\n"
     ]
    },
    {
     "name": "stdout",
     "output_type": "stream",
     "text": [
      "4/4 [==============================] - 1s 62ms/step\n"
     ]
    },
    {
     "data": {
      "image/png": "[encoded data removed]",
      "text/plain": [
       "<Figure size 432x288 with 1 Axes>"
      ]
     },
     "metadata": {
      "needs_background": "light"
     },
     "output_type": "display_data"
    }
   ],
   "source": [
    "################## predict ######################\n",
    "\n",
    "predicted_stock_price = model.predict(x_test)\n",
    "\n",
    "predicted_stock_price = sc.inverse_transform(predicted_stock_price)\n",
    "\n",
    "real_stock_price = sc.inverse_transform(test_set[60:])\n",
    "\n",
    "plt.plot(real_stock_price, color='red', label='NVDA Stock Price')\n",
    "plt.plot(predicted_stock_price, color='blue', label='Predicted NVDA Stock Price')\n",
    "plt.title('NVDA Stock Price Prediction')\n",
    "plt.xlabel('Time')\n",
    "plt.ylabel('NVDA Stock Price')\n",
    "plt.legend()\n",
    "plt.show()"
   ]
  },
  {
   "cell_type": "code",
   "execution_count": 12,
   "metadata": {},
   "outputs": [
    {
     "name": "stdout",
     "output_type": "stream",
     "text": [
      "mse: 6159.506122\n",
      "rmse: 78.482521\n",
      "mae: 27.131185\n"
     ]
    }
   ],
   "source": [
    "##########evaluate##############\n",
    "# calculate MSE \n",
    "mse = mean_squared_error(predicted_stock_price, real_stock_price)\n",
    "# calculate RMSE \n",
    "rmse = math.sqrt(mean_squared_error(predicted_stock_price, real_stock_price))\n",
    "# calculate MAE \n",
    "mae = mean_absolute_error(predicted_stock_price, real_stock_price)\n",
    "print('mse: %.6f' % mse)\n",
    "print('rmse: %.6f' % rmse)\n",
    "print('mae: %.6f' % mae)"
   ]
  }
 ],
 "metadata": {
  "kernelspec": {
   "display_name": "Python 3.8.5 ('tensorflow24')",
   "language": "python",
   "name": "python3"
  },
  "language_info": {
   "codemirror_mode": {
    "name": "ipython",
    "version": 3
   },
   "file_extension": ".py",
   "mimetype": "text/x-python",
   "name": "python",
   "nbconvert_exporter": "python",
   "pygments_lexer": "ipython3",
   "version": "3.8.5"
  },
  "orig_nbformat": 4,
  "vscode": {
   "interpreter": {
    "hash": "6fe0b1752bef58208e61c2c54ac686efbfd88b3c1c73b7f80dc2982421c99342"
   }
  }
 },
 "nbformat": 4,
 "nbformat_minor": 2
}
